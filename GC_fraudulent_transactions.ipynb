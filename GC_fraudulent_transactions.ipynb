{
  "nbformat": 4,
  "nbformat_minor": 0,
  "metadata": {
    "kernelspec": {
      "display_name": "Python 3",
      "language": "python",
      "name": "python3"
    },
    "language_info": {
      "codemirror_mode": {
        "name": "ipython",
        "version": 3
      },
      "file_extension": ".py",
      "mimetype": "text/x-python",
      "name": "python",
      "nbconvert_exporter": "python",
      "pygments_lexer": "ipython3",
      "version": "3.7.7"
    },
    "colab": {
      "name": "GC_fraudulent_transactions.ipynb",
      "provenance": [],
      "include_colab_link": true
    }
  },
  "cells": [
    {
      "cell_type": "markdown",
      "metadata": {
        "id": "view-in-github",
        "colab_type": "text"
      },
      "source": [
        "<a href=\"https://colab.research.google.com/github/kseniagorska/fraud_prediction/blob/main/GC_fraudulent_transactions.ipynb\" target=\"_parent\"><img src=\"https://colab.research.google.com/assets/colab-badge.svg\" alt=\"Open In Colab\"/></a>"
      ]
    },
    {
      "cell_type": "markdown",
      "metadata": {
        "id": "PXTIUdr8RnNk"
      },
      "source": [
        "# Predicting Fraudulent Transactions Using Neural Networks\n",
        "\n",
        "This project creates a classification deep learning model that can predict financial fraud. \n",
        "\n",
        "\n"
      ]
    },
    {
      "cell_type": "code",
      "metadata": {
        "id": "zjBjScnhRnNn"
      },
      "source": [
        "# Imports\n",
        "import pandas as pd\n",
        "from pathlib import Path\n",
        "from tensorflow.keras.layers import Dense\n",
        "from tensorflow.keras.models import Sequential\n",
        "from sklearn.preprocessing import StandardScaler\n",
        "from sklearn.model_selection import train_test_split"
      ],
      "execution_count": 2,
      "outputs": []
    },
    {
      "cell_type": "markdown",
      "metadata": {
        "id": "oKIxfU9ZRnNo"
      },
      "source": [
        "## Load and Preprocess the Data"
      ]
    },
    {
      "cell_type": "markdown",
      "metadata": {
        "id": "EUjck3CJRnNo"
      },
      "source": [
        "### Step 1: Read the data from the CSV file into a Pandas DataFrame."
      ]
    },
    {
      "cell_type": "code",
      "metadata": {
        "id": "pyCn-exAR5uu"
      },
      "source": [
        "# Upload credit_card_transactions.csv to Colab\n",
        "from google.colab import files\n",
        "\n",
        "csv_file = files.upload()"
      ],
      "execution_count": null,
      "outputs": []
    },
    {
      "cell_type": "code",
      "metadata": {
        "id": "eWifJj19RnNo",
        "colab": {
          "base_uri": "https://localhost:8080/",
          "height": 206
        },
        "outputId": "bc9f78d0-9891-4104-a726-25403232f3f0"
      },
      "source": [
        "# Read the credit_card_transactions.csv file from the Resources folder into a Pandas DataFrame\n",
        "cc_transactions_df = pd.read_csv(\"credit_card_transactions.csv\")\n",
        "\n",
        "# Review the DataFrame\n",
        "cc_transactions_df.head()\n"
      ],
      "execution_count": 4,
      "outputs": [
        {
          "output_type": "execute_result",
          "data": {
            "text/html": [
              "<div>\n",
              "<style scoped>\n",
              "    .dataframe tbody tr th:only-of-type {\n",
              "        vertical-align: middle;\n",
              "    }\n",
              "\n",
              "    .dataframe tbody tr th {\n",
              "        vertical-align: top;\n",
              "    }\n",
              "\n",
              "    .dataframe thead th {\n",
              "        text-align: right;\n",
              "    }\n",
              "</style>\n",
              "<table border=\"1\" class=\"dataframe\">\n",
              "  <thead>\n",
              "    <tr style=\"text-align: right;\">\n",
              "      <th></th>\n",
              "      <th>dateMonth</th>\n",
              "      <th>dateWeekday</th>\n",
              "      <th>dateQuarter</th>\n",
              "      <th>operationType</th>\n",
              "      <th>amount</th>\n",
              "      <th>oldbalanceOrig</th>\n",
              "      <th>newbalanceOrig</th>\n",
              "      <th>oldbalanceDest</th>\n",
              "      <th>newbalanceDest</th>\n",
              "      <th>isFraud</th>\n",
              "    </tr>\n",
              "  </thead>\n",
              "  <tbody>\n",
              "    <tr>\n",
              "      <th>0</th>\n",
              "      <td>1</td>\n",
              "      <td>1</td>\n",
              "      <td>1</td>\n",
              "      <td>4</td>\n",
              "      <td>736.76</td>\n",
              "      <td>1120.00</td>\n",
              "      <td>383.24</td>\n",
              "      <td>0.00</td>\n",
              "      <td>0.00</td>\n",
              "      <td>0</td>\n",
              "    </tr>\n",
              "    <tr>\n",
              "      <th>1</th>\n",
              "      <td>1</td>\n",
              "      <td>1</td>\n",
              "      <td>1</td>\n",
              "      <td>2</td>\n",
              "      <td>256226.20</td>\n",
              "      <td>0.00</td>\n",
              "      <td>0.00</td>\n",
              "      <td>518041.64</td>\n",
              "      <td>1305828.01</td>\n",
              "      <td>0</td>\n",
              "    </tr>\n",
              "    <tr>\n",
              "      <th>2</th>\n",
              "      <td>1</td>\n",
              "      <td>1</td>\n",
              "      <td>1</td>\n",
              "      <td>5</td>\n",
              "      <td>310027.49</td>\n",
              "      <td>61594.00</td>\n",
              "      <td>0.00</td>\n",
              "      <td>10089.00</td>\n",
              "      <td>1157398.83</td>\n",
              "      <td>0</td>\n",
              "    </tr>\n",
              "    <tr>\n",
              "      <th>3</th>\n",
              "      <td>1</td>\n",
              "      <td>1</td>\n",
              "      <td>1</td>\n",
              "      <td>1</td>\n",
              "      <td>76695.35</td>\n",
              "      <td>9064440.33</td>\n",
              "      <td>9141135.68</td>\n",
              "      <td>880045.33</td>\n",
              "      <td>206147.08</td>\n",
              "      <td>0</td>\n",
              "    </tr>\n",
              "    <tr>\n",
              "      <th>4</th>\n",
              "      <td>1</td>\n",
              "      <td>1</td>\n",
              "      <td>1</td>\n",
              "      <td>4</td>\n",
              "      <td>4761.57</td>\n",
              "      <td>0.00</td>\n",
              "      <td>0.00</td>\n",
              "      <td>0.00</td>\n",
              "      <td>0.00</td>\n",
              "      <td>0</td>\n",
              "    </tr>\n",
              "  </tbody>\n",
              "</table>\n",
              "</div>"
            ],
            "text/plain": [
              "   dateMonth  dateWeekday  dateQuarter  ...  oldbalanceDest  newbalanceDest  isFraud\n",
              "0          1            1            1  ...            0.00            0.00        0\n",
              "1          1            1            1  ...       518041.64      1305828.01        0\n",
              "2          1            1            1  ...        10089.00      1157398.83        0\n",
              "3          1            1            1  ...       880045.33       206147.08        0\n",
              "4          1            1            1  ...            0.00            0.00        0\n",
              "\n",
              "[5 rows x 10 columns]"
            ]
          },
          "metadata": {},
          "execution_count": 4
        }
      ]
    },
    {
      "cell_type": "markdown",
      "metadata": {
        "id": "NIn9vbsZRnNp"
      },
      "source": [
        "### Step 2: Create the target set `y` by assigning the values of the “isFraud” column of the DataFrame."
      ]
    },
    {
      "cell_type": "code",
      "metadata": {
        "id": "nbpfrW5YRnNp",
        "colab": {
          "base_uri": "https://localhost:8080/"
        },
        "outputId": "70035719-5274-4d10-dbbd-b00dee1c5a6a"
      },
      "source": [
        "# Define the target set by selecting the isFraud column\n",
        "y = cc_transactions_df[\"isFraud\"]\n",
        "\n",
        "# Display a sample of y\n",
        "y[:5]\n"
      ],
      "execution_count": 5,
      "outputs": [
        {
          "output_type": "execute_result",
          "data": {
            "text/plain": [
              "0    0\n",
              "1    0\n",
              "2    0\n",
              "3    0\n",
              "4    0\n",
              "Name: isFraud, dtype: int64"
            ]
          },
          "metadata": {},
          "execution_count": 5
        }
      ]
    },
    {
      "cell_type": "markdown",
      "metadata": {
        "id": "l9r4vMTjRnNq"
      },
      "source": [
        "### Step 3: Define the features set `X` by including all of the columns of the DataFrame except for the “isFraud” column."
      ]
    },
    {
      "cell_type": "code",
      "metadata": {
        "id": "nQ30JoRyRnNq",
        "colab": {
          "base_uri": "https://localhost:8080/",
          "height": 206
        },
        "outputId": "896c8ae7-575d-4972-b893-f865308647aa"
      },
      "source": [
        "# Define features set X by selecting all columns but the isFraud\n",
        "X = cc_transactions_df.drop(columns=\"isFraud\")\n",
        "\n",
        "# Display the features DataFrame\n",
        "X.head()\n"
      ],
      "execution_count": 6,
      "outputs": [
        {
          "output_type": "execute_result",
          "data": {
            "text/html": [
              "<div>\n",
              "<style scoped>\n",
              "    .dataframe tbody tr th:only-of-type {\n",
              "        vertical-align: middle;\n",
              "    }\n",
              "\n",
              "    .dataframe tbody tr th {\n",
              "        vertical-align: top;\n",
              "    }\n",
              "\n",
              "    .dataframe thead th {\n",
              "        text-align: right;\n",
              "    }\n",
              "</style>\n",
              "<table border=\"1\" class=\"dataframe\">\n",
              "  <thead>\n",
              "    <tr style=\"text-align: right;\">\n",
              "      <th></th>\n",
              "      <th>dateMonth</th>\n",
              "      <th>dateWeekday</th>\n",
              "      <th>dateQuarter</th>\n",
              "      <th>operationType</th>\n",
              "      <th>amount</th>\n",
              "      <th>oldbalanceOrig</th>\n",
              "      <th>newbalanceOrig</th>\n",
              "      <th>oldbalanceDest</th>\n",
              "      <th>newbalanceDest</th>\n",
              "    </tr>\n",
              "  </thead>\n",
              "  <tbody>\n",
              "    <tr>\n",
              "      <th>0</th>\n",
              "      <td>1</td>\n",
              "      <td>1</td>\n",
              "      <td>1</td>\n",
              "      <td>4</td>\n",
              "      <td>736.76</td>\n",
              "      <td>1120.00</td>\n",
              "      <td>383.24</td>\n",
              "      <td>0.00</td>\n",
              "      <td>0.00</td>\n",
              "    </tr>\n",
              "    <tr>\n",
              "      <th>1</th>\n",
              "      <td>1</td>\n",
              "      <td>1</td>\n",
              "      <td>1</td>\n",
              "      <td>2</td>\n",
              "      <td>256226.20</td>\n",
              "      <td>0.00</td>\n",
              "      <td>0.00</td>\n",
              "      <td>518041.64</td>\n",
              "      <td>1305828.01</td>\n",
              "    </tr>\n",
              "    <tr>\n",
              "      <th>2</th>\n",
              "      <td>1</td>\n",
              "      <td>1</td>\n",
              "      <td>1</td>\n",
              "      <td>5</td>\n",
              "      <td>310027.49</td>\n",
              "      <td>61594.00</td>\n",
              "      <td>0.00</td>\n",
              "      <td>10089.00</td>\n",
              "      <td>1157398.83</td>\n",
              "    </tr>\n",
              "    <tr>\n",
              "      <th>3</th>\n",
              "      <td>1</td>\n",
              "      <td>1</td>\n",
              "      <td>1</td>\n",
              "      <td>1</td>\n",
              "      <td>76695.35</td>\n",
              "      <td>9064440.33</td>\n",
              "      <td>9141135.68</td>\n",
              "      <td>880045.33</td>\n",
              "      <td>206147.08</td>\n",
              "    </tr>\n",
              "    <tr>\n",
              "      <th>4</th>\n",
              "      <td>1</td>\n",
              "      <td>1</td>\n",
              "      <td>1</td>\n",
              "      <td>4</td>\n",
              "      <td>4761.57</td>\n",
              "      <td>0.00</td>\n",
              "      <td>0.00</td>\n",
              "      <td>0.00</td>\n",
              "      <td>0.00</td>\n",
              "    </tr>\n",
              "  </tbody>\n",
              "</table>\n",
              "</div>"
            ],
            "text/plain": [
              "   dateMonth  dateWeekday  ...  oldbalanceDest  newbalanceDest\n",
              "0          1            1  ...            0.00            0.00\n",
              "1          1            1  ...       518041.64      1305828.01\n",
              "2          1            1  ...        10089.00      1157398.83\n",
              "3          1            1  ...       880045.33       206147.08\n",
              "4          1            1  ...            0.00            0.00\n",
              "\n",
              "[5 rows x 9 columns]"
            ]
          },
          "metadata": {},
          "execution_count": 6
        }
      ]
    },
    {
      "cell_type": "markdown",
      "metadata": {
        "id": "HF1aa9n2RnNq"
      },
      "source": [
        "### Step 4: Create the training and testing sets using the `train_test_split` function from scikit-learn."
      ]
    },
    {
      "cell_type": "code",
      "metadata": {
        "id": "2WU65gmpRnNq"
      },
      "source": [
        "# Create training and testing datasets using train_teat_split\n",
        "# Assign the function a random_state equal to 1\n",
        "X_train, X_test, y_train, y_test = train_test_split(X, y, random_state=1)\n"
      ],
      "execution_count": 7,
      "outputs": []
    },
    {
      "cell_type": "markdown",
      "metadata": {
        "id": "bKRgVgHxRnNq"
      },
      "source": [
        "### Step 5:  Scale the features data using the `StandardScaler` from scikit-learn."
      ]
    },
    {
      "cell_type": "code",
      "metadata": {
        "id": "hPCjN6sZRnNr"
      },
      "source": [
        "# Create the StandardScaler instance\n",
        "X_scaler = StandardScaler()\n"
      ],
      "execution_count": 8,
      "outputs": []
    },
    {
      "cell_type": "code",
      "metadata": {
        "id": "4rWnn2kfRnNr",
        "colab": {
          "base_uri": "https://localhost:8080/"
        },
        "outputId": "c5030fe2-580f-41ab-9e9b-294bdde432b0"
      },
      "source": [
        "# Fit the scaler to the features training dataset\n",
        "X_scaler.fit(X_train)\n"
      ],
      "execution_count": 9,
      "outputs": [
        {
          "output_type": "execute_result",
          "data": {
            "text/plain": [
              "StandardScaler(copy=True, with_mean=True, with_std=True)"
            ]
          },
          "metadata": {},
          "execution_count": 9
        }
      ]
    },
    {
      "cell_type": "code",
      "metadata": {
        "id": "CRDZepJSRnNr"
      },
      "source": [
        "# Scale both the training and testing data from the features dataset\n",
        "X_train_scaled = X_scaler.transform(X_train)\n",
        "X_test_scaled = X_scaler.transform(X_test)\n"
      ],
      "execution_count": 10,
      "outputs": []
    },
    {
      "cell_type": "markdown",
      "metadata": {
        "id": "A_AV7c2vRnNr"
      },
      "source": [
        "---\n",
        "\n",
        "## Create and Evaluate a Deep Neural Network Model"
      ]
    },
    {
      "cell_type": "code",
      "metadata": {
        "id": "r7N1SFWKRnNs"
      },
      "source": [
        "# Define the the number of inputs to the model\n",
        "number_inputs = 9\n",
        "\n",
        "# Define the number of hidden nodes for the first hidden layer\n",
        "hidden_nodes_layer1 = 18\n",
        "\n",
        "# Define the number of hidden nodes for the second hidden layer\n",
        "hidden_nodes_layer2 = 8\n",
        "\n",
        "# Create the Sequential model instance\n",
        "nn = Sequential()\n",
        "\n",
        "# Add the first Dense layer specifying the number of inputs, the number of hidden nodes, and the activation function\n",
        "nn.add(Dense(input_dim= number_inputs, units= hidden_nodes_layer1, activation= 'relu'))\n",
        "\n",
        "# Add the second Dense layer specifying the number of hidden nodes and the activation function\n",
        "nn.add(Dense( units= hidden_nodes_layer2, activation= 'relu'))\n",
        "\n",
        "# Add the output layer to the model specifying the number of output neurons and activation function\n",
        "nn.add(Dense( units= 1, activation= 'sigmoid'))\n"
      ],
      "execution_count": 11,
      "outputs": []
    },
    {
      "cell_type": "markdown",
      "metadata": {
        "id": "m6-wnlv5RnNs"
      },
      "source": [
        "### Step 2. Display the model structure using the `summary` function."
      ]
    },
    {
      "cell_type": "code",
      "metadata": {
        "id": "xCm4JQ6JRnNs",
        "colab": {
          "base_uri": "https://localhost:8080/"
        },
        "outputId": "cd9cb962-950c-42ba-eba5-ceea33da54ac"
      },
      "source": [
        "# Display the Sequential model summary\n",
        "nn.summary()\n"
      ],
      "execution_count": 12,
      "outputs": [
        {
          "output_type": "stream",
          "name": "stdout",
          "text": [
            "Model: \"sequential\"\n",
            "_________________________________________________________________\n",
            "Layer (type)                 Output Shape              Param #   \n",
            "=================================================================\n",
            "dense (Dense)                (None, 18)                180       \n",
            "_________________________________________________________________\n",
            "dense_1 (Dense)              (None, 8)                 152       \n",
            "_________________________________________________________________\n",
            "dense_2 (Dense)              (None, 1)                 9         \n",
            "=================================================================\n",
            "Total params: 341\n",
            "Trainable params: 341\n",
            "Non-trainable params: 0\n",
            "_________________________________________________________________\n"
          ]
        }
      ]
    },
    {
      "cell_type": "markdown",
      "metadata": {
        "id": "asddb2V2RnNs"
      },
      "source": [
        "### Step 3: Compile the neural network model using the `binary_crossentropy` loss function, the `adam` optimizer, and `accuracy` as an additional metric."
      ]
    },
    {
      "cell_type": "code",
      "metadata": {
        "id": "_1kGgbiRRnNt"
      },
      "source": [
        "# Compile the Sequential model\n",
        "nn.compile(loss='binary_crossentropy', optimizer='adam', metrics=[\"accuracy\"])\n"
      ],
      "execution_count": 14,
      "outputs": []
    },
    {
      "cell_type": "markdown",
      "metadata": {
        "id": "rj9RyYeaRnNt"
      },
      "source": [
        "### Step 4: Fit the model with the training data, using 100 epochs."
      ]
    },
    {
      "cell_type": "code",
      "metadata": {
        "id": "TY1MvtcKRnNt",
        "colab": {
          "base_uri": "https://localhost:8080/"
        },
        "outputId": "76240bcd-ca52-4d68-eb71-ef22e235996c"
      },
      "source": [
        "# Fit the model using 100 epochs and the training data\n",
        "model = nn.fit(X_train_scaled, y_train, epochs=100)\n"
      ],
      "execution_count": 15,
      "outputs": [
        {
          "output_type": "stream",
          "name": "stdout",
          "text": [
            "Epoch 1/100\n",
            "2344/2344 [==============================] - 5s 2ms/step - loss: 0.0389 - accuracy: 0.9933\n",
            "Epoch 2/100\n",
            "2344/2344 [==============================] - 4s 2ms/step - loss: 0.0096 - accuracy: 0.9988\n",
            "Epoch 3/100\n",
            "2344/2344 [==============================] - 4s 2ms/step - loss: 0.0089 - accuracy: 0.9988\n",
            "Epoch 4/100\n",
            "2344/2344 [==============================] - 4s 2ms/step - loss: 0.0084 - accuracy: 0.9989\n",
            "Epoch 5/100\n",
            "2344/2344 [==============================] - 4s 2ms/step - loss: 0.0081 - accuracy: 0.9989\n",
            "Epoch 6/100\n",
            "2344/2344 [==============================] - 4s 2ms/step - loss: 0.0079 - accuracy: 0.9989\n",
            "Epoch 7/100\n",
            "2344/2344 [==============================] - 4s 2ms/step - loss: 0.0077 - accuracy: 0.9989\n",
            "Epoch 8/100\n",
            "2344/2344 [==============================] - 4s 2ms/step - loss: 0.0074 - accuracy: 0.9989\n",
            "Epoch 9/100\n",
            "2344/2344 [==============================] - 4s 2ms/step - loss: 0.0071 - accuracy: 0.9989\n",
            "Epoch 10/100\n",
            "2344/2344 [==============================] - 4s 2ms/step - loss: 0.0068 - accuracy: 0.9989\n",
            "Epoch 11/100\n",
            "2344/2344 [==============================] - 4s 2ms/step - loss: 0.0065 - accuracy: 0.9989\n",
            "Epoch 12/100\n",
            "2344/2344 [==============================] - 4s 2ms/step - loss: 0.0064 - accuracy: 0.9989\n",
            "Epoch 13/100\n",
            "2344/2344 [==============================] - 4s 2ms/step - loss: 0.0061 - accuracy: 0.9989\n",
            "Epoch 14/100\n",
            "2344/2344 [==============================] - 4s 2ms/step - loss: 0.0059 - accuracy: 0.9989\n",
            "Epoch 15/100\n",
            "2344/2344 [==============================] - 4s 2ms/step - loss: 0.0058 - accuracy: 0.9990\n",
            "Epoch 16/100\n",
            "2344/2344 [==============================] - 4s 2ms/step - loss: 0.0057 - accuracy: 0.9990\n",
            "Epoch 17/100\n",
            "2344/2344 [==============================] - 4s 2ms/step - loss: 0.0056 - accuracy: 0.9990\n",
            "Epoch 18/100\n",
            "2344/2344 [==============================] - 4s 2ms/step - loss: 0.0056 - accuracy: 0.9990\n",
            "Epoch 19/100\n",
            "2344/2344 [==============================] - 4s 2ms/step - loss: 0.0054 - accuracy: 0.9990\n",
            "Epoch 20/100\n",
            "2344/2344 [==============================] - 4s 2ms/step - loss: 0.0054 - accuracy: 0.9990\n",
            "Epoch 21/100\n",
            "2344/2344 [==============================] - 4s 2ms/step - loss: 0.0054 - accuracy: 0.9990\n",
            "Epoch 22/100\n",
            "2344/2344 [==============================] - 4s 2ms/step - loss: 0.0053 - accuracy: 0.9990\n",
            "Epoch 23/100\n",
            "2344/2344 [==============================] - 4s 2ms/step - loss: 0.0052 - accuracy: 0.9990\n",
            "Epoch 24/100\n",
            "2344/2344 [==============================] - 4s 2ms/step - loss: 0.0052 - accuracy: 0.9990\n",
            "Epoch 25/100\n",
            "2344/2344 [==============================] - 4s 2ms/step - loss: 0.0052 - accuracy: 0.9990\n",
            "Epoch 26/100\n",
            "2344/2344 [==============================] - 4s 2ms/step - loss: 0.0051 - accuracy: 0.9990\n",
            "Epoch 27/100\n",
            "2344/2344 [==============================] - 4s 2ms/step - loss: 0.0052 - accuracy: 0.9990\n",
            "Epoch 28/100\n",
            "2344/2344 [==============================] - 4s 2ms/step - loss: 0.0051 - accuracy: 0.9990\n",
            "Epoch 29/100\n",
            "2344/2344 [==============================] - 4s 2ms/step - loss: 0.0051 - accuracy: 0.9990\n",
            "Epoch 30/100\n",
            "2344/2344 [==============================] - 4s 2ms/step - loss: 0.0051 - accuracy: 0.9990\n",
            "Epoch 31/100\n",
            "2344/2344 [==============================] - 4s 2ms/step - loss: 0.0049 - accuracy: 0.9990\n",
            "Epoch 32/100\n",
            "2344/2344 [==============================] - 4s 2ms/step - loss: 0.0050 - accuracy: 0.9990\n",
            "Epoch 33/100\n",
            "2344/2344 [==============================] - 4s 2ms/step - loss: 0.0051 - accuracy: 0.9990\n",
            "Epoch 34/100\n",
            "2344/2344 [==============================] - 4s 2ms/step - loss: 0.0049 - accuracy: 0.9990\n",
            "Epoch 35/100\n",
            "2344/2344 [==============================] - 4s 2ms/step - loss: 0.0050 - accuracy: 0.9990\n",
            "Epoch 36/100\n",
            "2344/2344 [==============================] - 4s 2ms/step - loss: 0.0050 - accuracy: 0.9991\n",
            "Epoch 37/100\n",
            "2344/2344 [==============================] - 4s 2ms/step - loss: 0.0050 - accuracy: 0.9990\n",
            "Epoch 38/100\n",
            "2344/2344 [==============================] - 4s 2ms/step - loss: 0.0050 - accuracy: 0.9990\n",
            "Epoch 39/100\n",
            "2344/2344 [==============================] - 4s 2ms/step - loss: 0.0048 - accuracy: 0.9990\n",
            "Epoch 40/100\n",
            "2344/2344 [==============================] - 4s 2ms/step - loss: 0.0048 - accuracy: 0.9990\n",
            "Epoch 41/100\n",
            "2344/2344 [==============================] - 4s 2ms/step - loss: 0.0049 - accuracy: 0.9990\n",
            "Epoch 42/100\n",
            "2344/2344 [==============================] - 4s 2ms/step - loss: 0.0049 - accuracy: 0.9990\n",
            "Epoch 43/100\n",
            "2344/2344 [==============================] - 4s 2ms/step - loss: 0.0047 - accuracy: 0.9990\n",
            "Epoch 44/100\n",
            "2344/2344 [==============================] - 4s 2ms/step - loss: 0.0049 - accuracy: 0.9990\n",
            "Epoch 45/100\n",
            "2344/2344 [==============================] - 4s 2ms/step - loss: 0.0049 - accuracy: 0.9990\n",
            "Epoch 46/100\n",
            "2344/2344 [==============================] - 4s 2ms/step - loss: 0.0048 - accuracy: 0.9990\n",
            "Epoch 47/100\n",
            "2344/2344 [==============================] - 4s 2ms/step - loss: 0.0048 - accuracy: 0.9990\n",
            "Epoch 48/100\n",
            "2344/2344 [==============================] - 4s 2ms/step - loss: 0.0048 - accuracy: 0.9991\n",
            "Epoch 49/100\n",
            "2344/2344 [==============================] - 4s 2ms/step - loss: 0.0047 - accuracy: 0.9991\n",
            "Epoch 50/100\n",
            "2344/2344 [==============================] - 4s 2ms/step - loss: 0.0048 - accuracy: 0.9991\n",
            "Epoch 51/100\n",
            "2344/2344 [==============================] - 4s 2ms/step - loss: 0.0048 - accuracy: 0.9991\n",
            "Epoch 52/100\n",
            "2344/2344 [==============================] - 4s 2ms/step - loss: 0.0048 - accuracy: 0.9991\n",
            "Epoch 53/100\n",
            "2344/2344 [==============================] - 4s 2ms/step - loss: 0.0048 - accuracy: 0.9990\n",
            "Epoch 54/100\n",
            "2344/2344 [==============================] - 4s 2ms/step - loss: 0.0047 - accuracy: 0.9990\n",
            "Epoch 55/100\n",
            "2344/2344 [==============================] - 4s 2ms/step - loss: 0.0048 - accuracy: 0.9990\n",
            "Epoch 56/100\n",
            "2344/2344 [==============================] - 4s 2ms/step - loss: 0.0046 - accuracy: 0.9990\n",
            "Epoch 57/100\n",
            "2344/2344 [==============================] - 4s 2ms/step - loss: 0.0047 - accuracy: 0.9990\n",
            "Epoch 58/100\n",
            "2344/2344 [==============================] - 4s 2ms/step - loss: 0.0047 - accuracy: 0.9990\n",
            "Epoch 59/100\n",
            "2344/2344 [==============================] - 4s 2ms/step - loss: 0.0048 - accuracy: 0.9990\n",
            "Epoch 60/100\n",
            "2344/2344 [==============================] - 4s 2ms/step - loss: 0.0047 - accuracy: 0.9990\n",
            "Epoch 61/100\n",
            "2344/2344 [==============================] - 4s 2ms/step - loss: 0.0047 - accuracy: 0.9990\n",
            "Epoch 62/100\n",
            "2344/2344 [==============================] - 4s 2ms/step - loss: 0.0047 - accuracy: 0.9990\n",
            "Epoch 63/100\n",
            "2344/2344 [==============================] - 4s 2ms/step - loss: 0.0046 - accuracy: 0.9991\n",
            "Epoch 64/100\n",
            "2344/2344 [==============================] - 4s 2ms/step - loss: 0.0047 - accuracy: 0.9990\n",
            "Epoch 65/100\n",
            "2344/2344 [==============================] - 4s 2ms/step - loss: 0.0047 - accuracy: 0.9990\n",
            "Epoch 66/100\n",
            "2344/2344 [==============================] - 4s 2ms/step - loss: 0.0047 - accuracy: 0.9990\n",
            "Epoch 67/100\n",
            "2344/2344 [==============================] - 4s 2ms/step - loss: 0.0046 - accuracy: 0.9990\n",
            "Epoch 68/100\n",
            "2344/2344 [==============================] - 4s 2ms/step - loss: 0.0046 - accuracy: 0.9990\n",
            "Epoch 69/100\n",
            "2344/2344 [==============================] - 4s 2ms/step - loss: 0.0047 - accuracy: 0.9990\n",
            "Epoch 70/100\n",
            "2344/2344 [==============================] - 4s 2ms/step - loss: 0.0047 - accuracy: 0.9990\n",
            "Epoch 71/100\n",
            "2344/2344 [==============================] - 4s 2ms/step - loss: 0.0046 - accuracy: 0.9990\n",
            "Epoch 72/100\n",
            "2344/2344 [==============================] - 4s 2ms/step - loss: 0.0048 - accuracy: 0.9991\n",
            "Epoch 73/100\n",
            "2344/2344 [==============================] - 4s 2ms/step - loss: 0.0046 - accuracy: 0.9991\n",
            "Epoch 74/100\n",
            "2344/2344 [==============================] - 4s 2ms/step - loss: 0.0046 - accuracy: 0.9990\n",
            "Epoch 75/100\n",
            "2344/2344 [==============================] - 4s 2ms/step - loss: 0.0047 - accuracy: 0.9990\n",
            "Epoch 76/100\n",
            "2344/2344 [==============================] - 4s 2ms/step - loss: 0.0045 - accuracy: 0.9990\n",
            "Epoch 77/100\n",
            "2344/2344 [==============================] - 4s 2ms/step - loss: 0.0047 - accuracy: 0.9990\n",
            "Epoch 78/100\n",
            "2344/2344 [==============================] - 4s 2ms/step - loss: 0.0047 - accuracy: 0.9990\n",
            "Epoch 79/100\n",
            "2344/2344 [==============================] - 4s 2ms/step - loss: 0.0045 - accuracy: 0.9991\n",
            "Epoch 80/100\n",
            "2344/2344 [==============================] - 4s 2ms/step - loss: 0.0046 - accuracy: 0.9990\n",
            "Epoch 81/100\n",
            "2344/2344 [==============================] - 4s 2ms/step - loss: 0.0046 - accuracy: 0.9990\n",
            "Epoch 82/100\n",
            "2344/2344 [==============================] - 4s 2ms/step - loss: 0.0046 - accuracy: 0.9990\n",
            "Epoch 83/100\n",
            "2344/2344 [==============================] - 4s 2ms/step - loss: 0.0046 - accuracy: 0.9990\n",
            "Epoch 84/100\n",
            "2344/2344 [==============================] - 4s 2ms/step - loss: 0.0046 - accuracy: 0.9990\n",
            "Epoch 85/100\n",
            "2344/2344 [==============================] - 4s 2ms/step - loss: 0.0046 - accuracy: 0.9990\n",
            "Epoch 86/100\n",
            "2344/2344 [==============================] - 4s 2ms/step - loss: 0.0046 - accuracy: 0.9990\n",
            "Epoch 87/100\n",
            "2344/2344 [==============================] - 4s 2ms/step - loss: 0.0044 - accuracy: 0.9991\n",
            "Epoch 88/100\n",
            "2344/2344 [==============================] - 4s 2ms/step - loss: 0.0047 - accuracy: 0.9990\n",
            "Epoch 89/100\n",
            "2344/2344 [==============================] - 4s 2ms/step - loss: 0.0046 - accuracy: 0.9990\n",
            "Epoch 90/100\n",
            "2344/2344 [==============================] - 4s 2ms/step - loss: 0.0047 - accuracy: 0.9990\n",
            "Epoch 91/100\n",
            "2344/2344 [==============================] - 4s 2ms/step - loss: 0.0046 - accuracy: 0.9990\n",
            "Epoch 92/100\n",
            "2344/2344 [==============================] - 4s 2ms/step - loss: 0.0046 - accuracy: 0.9991\n",
            "Epoch 93/100\n",
            "2344/2344 [==============================] - 4s 2ms/step - loss: 0.0044 - accuracy: 0.9990\n",
            "Epoch 94/100\n",
            "2344/2344 [==============================] - 4s 2ms/step - loss: 0.0046 - accuracy: 0.9990\n",
            "Epoch 95/100\n",
            "2344/2344 [==============================] - 4s 2ms/step - loss: 0.0045 - accuracy: 0.9990\n",
            "Epoch 96/100\n",
            "2344/2344 [==============================] - 4s 2ms/step - loss: 0.0045 - accuracy: 0.9990\n",
            "Epoch 97/100\n",
            "2344/2344 [==============================] - 4s 2ms/step - loss: 0.0045 - accuracy: 0.9990\n",
            "Epoch 98/100\n",
            "2344/2344 [==============================] - 4s 2ms/step - loss: 0.0045 - accuracy: 0.9991\n",
            "Epoch 99/100\n",
            "2344/2344 [==============================] - 4s 2ms/step - loss: 0.0046 - accuracy: 0.9990\n",
            "Epoch 100/100\n",
            "2344/2344 [==============================] - 4s 2ms/step - loss: 0.0046 - accuracy: 0.9990\n"
          ]
        }
      ]
    },
    {
      "cell_type": "markdown",
      "metadata": {
        "id": "duxpi2evRnNt"
      },
      "source": [
        "### Step 5: Evaluate the model using testing data and the `evaluate` method."
      ]
    },
    {
      "cell_type": "code",
      "metadata": {
        "id": "0kRmkizURnNt",
        "colab": {
          "base_uri": "https://localhost:8080/"
        },
        "outputId": "c79cd0f0-a948-4762-8796-14e1b7c06189"
      },
      "source": [
        "# Evaluate the model loss and accuracy metrics using the evaluate method and the test data\n",
        "model_loss, model_accuracy = nn.evaluate(X_test_scaled, y_test, verbose=2)\n",
        "\n",
        "# Display the evaluation results\n",
        "print(f\"Loss: {model_loss}, Accuracy: {model_accuracy}\")"
      ],
      "execution_count": 16,
      "outputs": [
        {
          "output_type": "stream",
          "name": "stdout",
          "text": [
            "782/782 - 1s - loss: 0.0058 - accuracy: 0.9988\n",
            "Loss: 0.0057726576924324036, Accuracy: 0.9987999796867371\n"
          ]
        }
      ]
    },
    {
      "cell_type": "code",
      "metadata": {
        "id": "JpiTjJKjRnNu"
      },
      "source": [
        ""
      ],
      "execution_count": null,
      "outputs": []
    }
  ]
}